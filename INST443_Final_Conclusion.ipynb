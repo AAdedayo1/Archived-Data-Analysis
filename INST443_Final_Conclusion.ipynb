{
 "cells": [
  {
   "cell_type": "markdown",
   "metadata": {},
   "source": [
    "# Black Businesses and Employment in 1911 Charlotte, NC"
   ]
  },
  {
   "cell_type": "markdown",
   "metadata": {},
   "source": [
    "### Conclusion\n",
    "\n",
    "From the Charlotte 1911 Business Directory and City Directory, we were able to identify, extract, analyze, and visualize data that showed black businesses and employment. During this time in the South, black people were employed in various career fields; however, there were noticable observations in visualizing the data in Tableau. In terms of the category of business or employment, black people were most likely to be employed in clergy, domestics, and labor; while white people had higher technical employment such as clerk. The most common job types for black people were pastor, eating house restaurant), and shoemaker. We can conclude that the decades following the emancipation of slaves led to an increase of economic prosperity for black people in 1911 Charlotte, NC; however, the consequences of the inequality gaps between white and blacks is still an issue today. For future projects, I would further analyze this data through geomapping to compare the locations of these businesses and job-type trends with later years of Charlotte, NC. \n",
    "\n",
    "Overall, we can both say that we have learned new skills through the completion of this final project. The use of ABBYY FineReader, OpenRefine, and Tableau proved challenging at first, but with the help of what we learned in this course, online resources, and perserverance we were able to puth through to a final product. We are sure that the skills we have acquired through the course of this class and final project will be of good use to us in our future career and academic endeavors. We hope you enjoyed the computational story we have created. Thank you!\n"
   ]
  },
  {
   "cell_type": "markdown",
   "metadata": {},
   "source": [
    "### Notebooks\n",
    "\n",
    "\n",
    "1. [Introduction](http://localhost:8888/notebooks/Downloads/AAdedayo_JGoodman_INST443_Final/INST443_Final_HomePage.ipynb)\n",
    "2. [Data Collection](http://localhost:8888/notebooks/Downloads/AAdedayo_JGoodman_INST443_Final/INST443_Final_DataCollection.ipynb)\n",
    "3. [Data Cleaning and Manipulation](http://localhost:8888/notebooks/Downloads/AAdedayo_JGoodman_INST443_Final/INST443_Final_DataCleaning.ipynb)\n",
    "4. [Data Visualization](http://localhost:8888/notebooks/Downloads/AAdedayo_JGoodman_INST443_Final/INST443_Final_DataVisualization.ipynb)\n",
    "5. [Conclusion](http://localhost:8888/notebooks/Downloads/AAdedayo_JGoodman_INST443_Final/INST443_Final_Conclusion.ipynb)\n",
    "\n",
    "Next: [Introduction](http://localhost:8888/notebooks/Downloads/AAdedayo_JGoodman_INST443_Final/INST443_Final_HomePage.ipynb)"
   ]
  }
 ],
 "metadata": {
  "kernelspec": {
   "display_name": "Python 3",
   "language": "python",
   "name": "python3"
  },
  "language_info": {
   "codemirror_mode": {
    "name": "ipython",
    "version": 3
   },
   "file_extension": ".py",
   "mimetype": "text/x-python",
   "name": "python",
   "nbconvert_exporter": "python",
   "pygments_lexer": "ipython3",
   "version": "3.8.3"
  }
 },
 "nbformat": 4,
 "nbformat_minor": 4
}
